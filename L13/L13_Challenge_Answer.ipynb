{
 "cells": [
  {
   "cell_type": "markdown",
   "id": "4e1dd8cc-9979-4757-b5f5-21e4d5605d41",
   "metadata": {},
   "source": [
    "<img src=\"https://www.rp.edu.sg/images/default-source/default-album/rp-logo.png\" width=\"200\" alt=\"Republic Polytechnic\"/>\n",
    "\n",
    "[![Open in Colab](https://colab.research.google.com/assets/colab-badge.svg)](https://colab.research.google.com/github/koayst-rplesson/SDGAI_LLMforGenAIApp_Labs/blob/main/L13/L13_Challenge_Answer.ipynb)"
   ]
  },
  {
   "cell_type": "markdown",
   "id": "87e66413-b20b-45dc-88a7-725a8005916d",
   "metadata": {},
   "source": [
    "# Setup and Installation\n",
    "\n",
    "You can run this Jupyter notebook either on your local machine or run it at Google Colab.\n",
    "\n",
    "* For local machine, it is recommended to install Anaconda and create a new development environment called `c3669c`.\n",
    "* Pip/Conda install the libraries stated below when necessary.\n",
    "---"
   ]
  },
  {
   "cell_type": "markdown",
   "id": "e181688a-e654-416d-b660-d6e876f047e7",
   "metadata": {},
   "source": [
    "# <font color='red'>ATTENTION</font>\n",
    "\n",
    "## Google Colab\n",
    "- If you are running this code in Google Colab, **DO NOT** store the API Key in a text file and load the key later from Google Drive. This is insecure and will expose the key.\n",
    "- **DO NOT** hard code the API Key directly in the Python code, even though it might seem convenient for quick development.\n",
    "- You need to enter the API key at python code `getpass.getpass()` when ask.\n",
    "\n",
    "## Local Environment/Laptop\n",
    "- If you are running this code locally in your laptop, you can create a env.txt and store the API key there.\n",
    "- Make sure env.txt is in the same directory of this Jupyter notebook.\n",
    "- You need to install `python-dotenv` and run the Python code to load in the API key.\n",
    "\n",
    "---\n",
    "```\n",
    "%pip install python-dotenv\n",
    "\n",
    "from dotenv import load_dotenv\n",
    "\n",
    "load_dotenv('env.tx')\n",
    "openai_api_key = os.getenv('OPENAI_API_KEY')\n",
    "```\n",
    "---\n",
    "\n",
    "## GitHub/GitLab\n",
    "- **DO NOT** `commit` or `push` API Key to services like GitHub or GitLab."
   ]
  },
  {
   "cell_type": "markdown",
   "id": "864e0e74-9750-484e-85a3-0e2df89ab3eb",
   "metadata": {},
   "source": [
    "# Lesson 13 Challenge"
   ]
  },
  {
   "cell_type": "code",
   "execution_count": null,
   "id": "9b7a1281-5590-4f9d-88fc-76185733bf21",
   "metadata": {},
   "outputs": [],
   "source": [
    "%%capture --no-stderr\n",
    "%pip install --quiet -U langchain\n",
    "%pip install --quiet -U langgraph\n",
    "%pip install --quiet -U langchain-openai\n",
    "%pip install --quiet -U langchain-community\n",
    "%pip isntall --quiet -U tavily-python\n",
    "%pip install --quiet -U wikipedia"
   ]
  },
  {
   "cell_type": "code",
   "execution_count": null,
   "id": "02ed6b64-6afd-49b1-b20d-c0126966cb52",
   "metadata": {},
   "outputs": [],
   "source": [
    "# langchain              0.3.11\n",
    "# langgraph              0.2.59\n",
    "# langchain-core         0.3.24\n",
    "# langchain-openai       0.2.12\n",
    "# langchain-community    0.3.12\n",
    "# openai                 1.57.2\n",
    "# pydantic               2.10.3\n",
    "# tavily-python          0.5.0\n",
    "# wikipedia              1.4.0     "
   ]
  },
  {
   "cell_type": "code",
   "execution_count": 1,
   "id": "204b5efe-52a1-473b-baaf-49428f5c8d0c",
   "metadata": {},
   "outputs": [
    {
     "name": "stdin",
     "output_type": "stream",
     "text": [
      " ········\n"
     ]
    }
   ],
   "source": [
    "import getpass\n",
    "import os\n",
    "\n",
    "# setup the OpenAI API Key\n",
    "\n",
    "# get OpenAI API key ready and enter it when ask\n",
    "os.environ[\"OPENAI_API_KEY\"] = getpass.getpass()"
   ]
  },
  {
   "cell_type": "code",
   "execution_count": 2,
   "id": "4f03db0f-e170-40f3-ad72-35f68d3b44d6",
   "metadata": {},
   "outputs": [
    {
     "name": "stdin",
     "output_type": "stream",
     "text": [
      " ········\n"
     ]
    }
   ],
   "source": [
    "# Goto https://tavily.com/ and sign up to get an API key\n",
    "\n",
    "# get Tavily Search API key ready and enter it when ask\n",
    "os.environ[\"TAVILY_API_KEY\"] = getpass.getpass()"
   ]
  },
  {
   "cell_type": "markdown",
   "id": "a3b2c924-3ffd-495a-95f6-5b64468cede9",
   "metadata": {},
   "source": [
    "---"
   ]
  },
  {
   "cell_type": "markdown",
   "id": "82fc6f41-5fd5-4ab8-a238-1c10205fc72f",
   "metadata": {},
   "source": [
    "## Challenge\n",
    "We will be using Wikipedia and a Google search services to gather contexts to answer a question directed to the LLM. You just need to complete the code and build the graph. Run test on it to ensure that it is working. Feel free to further improve it.\n",
    "\n",
    "**NOTE**</br>\n",
    "Make sure you have signed up at [Tavily](https://tavily.com/) and get an API key before continuing."
   ]
  },
  {
   "cell_type": "code",
   "execution_count": 3,
   "id": "b9be6546-ab80-4fe5-b495-a21b3219f6ba",
   "metadata": {},
   "outputs": [],
   "source": [
    "from langchain_openai import ChatOpenAI\n",
    "\n",
    "from langchain_core.messages import HumanMessage, SystemMessage\n",
    "\n",
    "from langchain_community.document_loaders import WikipediaLoader\n",
    "from langchain_community.tools.tavily_search import TavilySearchResults\n",
    "\n",
    "from langgraph.graph import StateGraph, START, END\n",
    "\n",
    "from typing import Annotated\n",
    "from langchain_core.messages import AnyMessage\n",
    "from langgraph.graph.message import add_messages\n",
    "from typing_extensions import TypedDict\n",
    "\n",
    "from IPython.display import Image, display"
   ]
  },
  {
   "cell_type": "code",
   "execution_count": 4,
   "id": "1122513e-b407-44cf-877f-2b9fcb4e0a13",
   "metadata": {},
   "outputs": [],
   "source": [
    "model = ChatOpenAI(\n",
    "    model = 'gpt-4o-mini'\n",
    ")"
   ]
  },
  {
   "cell_type": "code",
   "execution_count": 5,
   "id": "7a863e2c-750c-4aff-9330-bfd37830905a",
   "metadata": {},
   "outputs": [],
   "source": [
    "# complete the code\n",
    "class State(TypedDict):\n",
    "    question: str\n",
    "    answer: str\n",
    "    context: Annotated[list[AnyMessage], add_messages]"
   ]
  },
  {
   "cell_type": "code",
   "execution_count": 6,
   "id": "804d9eb0-5044-43ef-8286-b7cfe2274b18",
   "metadata": {},
   "outputs": [],
   "source": [
    "# define search_web node\n",
    "\n",
    "def search_web(state):\n",
    "    \"\"\" Retrieve docs from web search \"\"\"\n",
    "    tavily_search = TavilySearchResults(max_results=3)    # return three search result\n",
    "    search_docs = tavily_search.invoke(state['question'])\n",
    "\n",
    "    # format the search result\n",
    "    formatted_search_docs = \"\\n\\n---\\n\\n\".join(\n",
    "        [\n",
    "            f'<Document href=\"{doc[\"url\"]}\"/>\\n{doc[\"content\"]}\\n</Document>' for doc in search_docs            \n",
    "        ]\n",
    "    )\n",
    "\n",
    "    return {\"context\" : [formatted_search_docs]}"
   ]
  },
  {
   "cell_type": "code",
   "execution_count": 7,
   "id": "7cf982b7-1fc8-4c8c-b040-bbaa264e0dde",
   "metadata": {},
   "outputs": [],
   "source": [
    "def search_wikipedia(state):\n",
    "    \n",
    "    \"\"\" Retrieve docs from wikipedia \"\"\"\n",
    "    # Search\n",
    "    search_docs = WikipediaLoader(\n",
    "        query=state['question'], \n",
    "        load_max_docs=2).load()\n",
    "\n",
    "    # format the search result\n",
    "    formatted_search_docs = \"\\n\\n---\\n\\n\".join(\n",
    "        [\n",
    "            f'<Document source=\"{doc.metadata[\"source\"]}\" page=\"{doc.metadata.get(\"page\", \"\")}\"/>\\n{doc.page_content}\\n</Document>'\n",
    "            for doc in search_docs\n",
    "        ]\n",
    "    )\n",
    "\n",
    "    return {\"context\": [formatted_search_docs]} "
   ]
  },
  {
   "cell_type": "code",
   "execution_count": 8,
   "id": "65dd17c4-f79e-41d9-be70-2f2dce85fe37",
   "metadata": {},
   "outputs": [],
   "source": [
    "# define a answer generation node\n",
    "\n",
    "def generate_answer(state):\n",
    "    \"\"\" Node to generate answer \"\"\"\n",
    "\n",
    "    # get context and question from state\n",
    "    context = state['context']\n",
    "    question = state['question']\n",
    "\n",
    "    answer_template = \"\"\"Answer the question: {question} using this context: {context}\"\"\"\n",
    "    answer_instructions = answer_template.format(question = question, context = context)\n",
    "\n",
    "    # Now get the model (LLM) to answer\n",
    "    answer = model.invoke(\n",
    "        [SystemMessage(content = answer_instructions)] +\n",
    "        [HumanMessage(content = \"Please answer the question and indicate the source of truth.\")]\n",
    "    )\n",
    "\n",
    "    return {\"answer\" : answer}  "
   ]
  },
  {
   "cell_type": "code",
   "execution_count": 9,
   "id": "f1219420-b1db-4c46-b3df-6eff7c4cb0ce",
   "metadata": {},
   "outputs": [
    {
     "data": {
      "image/png": "[encoded data removed]",
      "text/plain": [
       "<IPython.core.display.Image object>"
      ]
     },
     "metadata": {},
     "output_type": "display_data"
    }
   ],
   "source": [
    "# Build the graph\n",
    "\n",
    "builder = StateGraph(State)\n",
    "\n",
    "# setup the nodes\n",
    "builder.add_node(\"search_web\",search_web)\n",
    "builder.add_node(\"search_wikipedia\", search_wikipedia)\n",
    "builder.add_node(\"generate_answer\", generate_answer)\n",
    "\n",
    "# connect the nodes\n",
    "builder.add_edge(START, \"search_web\")\n",
    "builder.add_edge(START, \"search_wikipedia\")\n",
    "builder.add_edge(\"search_wikipedia\", \"generate_answer\")\n",
    "builder.add_edge(\"search_web\", \"generate_answer\")\n",
    "builder.add_edge(\"generate_answer\", END)\n",
    "\n",
    "#compile the graph as assistant\n",
    "assistant = builder.compile()\n",
    "\n",
    "# display the graph\n",
    "display(Image(assistant.get_graph().draw_mermaid_png()))"
   ]
  },
  {
   "cell_type": "code",
   "execution_count": 10,
   "id": "a6c65d33-b899-4296-8dc6-ebbc52d09076",
   "metadata": {},
   "outputs": [
    {
     "name": "stdout",
     "output_type": "stream",
     "text": [
      "Nvidia reported strong Q2 2024 earnings, achieving $13 billion in revenue, which surpassed previous records due to high demand for its data center products and the launch of its Hopper architecture. The company has shown significant growth in its data center segment, driven by the rise of large language models in AI, and anticipates continued growth moving into the next quarter, with expectations to reach $16 billion in revenue in Q3.\n",
      "\n",
      "Source: [AnandTech](https://www.anandtech.com/show/20024/nvidia-reports-q2-fy2024-earnings-13b-revnues-blows-past-records-on-absurd-data-center-demand)\n"
     ]
    }
   ],
   "source": [
    "result = assistant.invoke({\"question\": \"How were Nvidia's Q2 2024 earnings\"})\n",
    "\n",
    "print(result['answer'].content)"
   ]
  },
  {
   "cell_type": "code",
   "execution_count": null,
   "id": "91e1a82d-b632-4b30-a8e8-053a44b8ab1c",
   "metadata": {},
   "outputs": [],
   "source": [
    "---"
   ]
  }
 ],
 "metadata": {
  "kernelspec": {
   "display_name": "Python 3 (ipykernel)",
   "language": "python",
   "name": "python3"
  },
  "language_info": {
   "codemirror_mode": {
    "name": "ipython",
    "version": 3
   },
   "file_extension": ".py",
   "mimetype": "text/x-python",
   "name": "python",
   "nbconvert_exporter": "python",
   "pygments_lexer": "ipython3",
   "version": "3.9.20"
  }
 },
 "nbformat": 4,
 "nbformat_minor": 5
}
