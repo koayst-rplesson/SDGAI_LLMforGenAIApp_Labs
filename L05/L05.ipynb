{
 "cells": [
  {
   "cell_type": "markdown",
   "id": "256d3948",
   "metadata": {},
   "source": [
    "<img src=\"https://www.rp.edu.sg/images/default-source/default-album/rp-logo.png\" width=\"200\" alt=\"Republic Polytechnic\"/>\n",
    "\n",
    "[![Open in Colab](https://colab.research.google.com/assets/colab-badge.svg)](https://colab.research.google.com/github/koayst-rplesson/SDGAI_LLMforGenAIApp_Labs/blob/main/L05/L05.ipynb)"
   ]
  },
  {
   "cell_type": "markdown",
   "id": "85e80164-bf97-4962-b425-7864a154dcaf",
   "metadata": {},
   "source": [
    "# Setup and Installation\n",
    "\n",
    "You can run this Jupyter notebook either on your local machine or run it at Google Colab.\n",
    "\n",
    "* For local machine, it is recommended to install Anaconda and create a new development environment called `c3669c`.\n",
    "* Pip/Conda install the libraries stated below when necessary.\n",
    "---"
   ]
  },
  {
   "attachments": {},
   "cell_type": "markdown",
   "id": "0c79ed1d-cc1e-4712-93ce-695496907dd7",
   "metadata": {},
   "source": [
    "# Lesson 05\n",
    "\n",
    "Prompt Engineering has been a hot topic ever since ChatGPT from OpenAI was released to public in November 2022.  Coupled with the rapid development of Generative AI, it is driving learners to skill up their competence in this area. I am sure when you google for \"prompt engineering courses\", there are a lot out there. One tutorial stands out from the rest is `Anthropic's Prompt Engineering Interactive Tutorial`. It is free and hands-on learning that teaches you to shape and refine your interaction with `Claude`.\n",
    "\n",
    "- Effective prompt engineering enhances AI outputs and improves productivity.\n",
    "- The course covers everything from basic to advanced prompt engineering techniques using Claude.\n",
    "- It is available on Google Sheets for interactive learning.\n",
    "\n",
    "Here is the link to the course: [Anthropic Prompt Engineering Interactive Tutorial](https://github.com/anthropics/prompt-eng-interactive-tutorial)."
   ]
  },
  {
   "cell_type": "markdown",
   "id": "1633740a-8796-42f1-a1ab-483dd0c64339",
   "metadata": {},
   "source": [
    "## Instructions:\n",
    "You have setup the tutorial environment from last lesson. If you didn't, please refer to last lesson before continuing."
   ]
  },
  {
   "cell_type": "markdown",
   "id": "79d9adec-1d8d-4eb5-bd1b-9c7f82022976",
   "metadata": {},
   "source": [
    "## Exercises:\n",
    "We will finish the rest of the exercises last left in previous lesson.  Highly recommended to do all the exercises.\n",
    "\n",
    "- Chapter 6: Precognition (Thinking Step by Step)\n",
    "- Chapter 7: Using Examples\n",
    "- Chapter 8: Avoid Hallucinations\n",
    "- Chapter 9: Building Complex Prompts (Industry Use Cases)\n",
    "- Appendix: Beyond Standard Prompting"
   ]
  },
  {
   "cell_type": "markdown",
   "id": "ccb35aff-39f5-46a2-a469-6ec5501f68b3",
   "metadata": {},
   "source": [
    "# Note:\n",
    "\n",
    "If you are stuck or unsure of what is expected, there is also an [answer key](https://docs.google.com/spreadsheets/d/1jIxjzUWG-6xBVIa2ay6yDpLyeuOh_hR_ZB75a47KX_E/edit?usp=sharing)"
   ]
  },
  {
   "cell_type": "markdown",
   "id": "ca7d7395-8855-48bb-b92c-207ba4b7deda",
   "metadata": {},
   "source": [
    "## Prompt Evaluation\n",
    "\n",
    "Prompt evaluation is an essential skill for anyone working with AI models, especially large language models (LLMs) like ChatGPT or Claude. Here's why it's important:\n",
    "- `Maximizing AI Performance`: Effective prompt evaluation identifies whether the prompt elicits the desired type of response, whether that's detailed, concise, creative, or specific.\n",
    "- `Improving Model Understanding`: Evaluating prompts allows users to better understand the model's strengths, limitations, and how it interprets instructions. This knowledge can then be used to craft prompts that play to the model's strengths.\n",
    "- `Supporting Iterative Improvement`: Prompt evaluation is a cyclical process where each iteration helps refine both the prompt and the model’s use. This ensures continuous improvement over time."
   ]
  },
  {
   "cell_type": "markdown",
   "id": "24a230ca-65dc-42dc-9d65-938dd1be1ebb",
   "metadata": {},
   "source": [
    "## Exercises:\n",
    "\n",
    "Go to Github [Anthropic Education Courses - Prompt Evaluation](https://github.com/anthropics/courses/tree/master/prompt_evaluations) and complete chapter 01 to chapter 09."
   ]
  },
  {
   "cell_type": "code",
   "execution_count": null,
   "id": "892ce11d-96fc-4aad-b307-0ec50122e912",
   "metadata": {},
   "outputs": [],
   "source": []
  }
 ],
 "metadata": {
  "kernelspec": {
   "display_name": "Python 3 (ipykernel)",
   "language": "python",
   "name": "python3"
  },
  "language_info": {
   "codemirror_mode": {
    "name": "ipython",
    "version": 3
   },
   "file_extension": ".py",
   "mimetype": "text/x-python",
   "name": "python",
   "nbconvert_exporter": "python",
   "pygments_lexer": "ipython3",
   "version": "3.10.14"
  }
 },
 "nbformat": 4,
 "nbformat_minor": 5
}
