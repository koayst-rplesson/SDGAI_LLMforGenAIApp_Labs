{
 "cells": [
  {
   "cell_type": "markdown",
   "id": "256d3948",
   "metadata": {},
   "source": [
    "<img src=\"https://www.rp.edu.sg/images/default-source/default-album/rp-logo.png\" width=\"200\" alt=\"Republic Polytechnic\"/>\n",
    "\n",
    "[![Open in Colab](https://colab.research.google.com/assets/colab-badge.svg)](https://colab.research.google.com/github/koayst-rplesson/SDGAI_LLMforGenAIApp_Labs/blob/main/L04/L04.ipynb)"
   ]
  },
  {
   "cell_type": "markdown",
   "id": "85e80164-bf97-4962-b425-7864a154dcaf",
   "metadata": {},
   "source": [
    "# Setup and Installation\n",
    "\n",
    "You can run this Jupyter notebook either on your local machine or run it at Google Colab.\n",
    "\n",
    "* For local machine, it is recommended to install Anaconda and create a new development environment called `c3669c`.\n",
    "* Pip/Conda install the libraries stated below when necessary."
   ]
  },
  {
   "attachments": {},
   "cell_type": "markdown",
   "id": "0c79ed1d-cc1e-4712-93ce-695496907dd7",
   "metadata": {},
   "source": [
    "# Lesson 04\n",
    "\n",
    "Prompt Engineering has been a hot topic ever since ChatGPT from OpenAI was released to public in November 2022.  Coupled with the rapid development of Generative AI, it is driving learners to skill up their competence in this area. I am sure when you google for \"prompt engineering courses\", there are a lot out there. One tutorial stands out from the rest is `Anthropic's Prompt Engineering Interactive Tutorial`. It is free and hands-on learning that teaches you to shape and refine your interaction with `Claude`.\n",
    "\n",
    "- Effective prompt engineering enhances AI outputs and improves productivity.\n",
    "- The course covers everything from basic to advanced prompt engineering techniques using Claude by Anthropic.\n",
    "- It is available on Google Sheets for interactive learning.\n",
    "\n",
    "Here is the link to the course: [Anthropic Prompt Engineering Interactive Tutorial](https://github.com/anthropics/prompt-eng-interactive-tutorial)."
   ]
  },
  {
   "cell_type": "markdown",
   "id": "9c299ebc-d7e3-4fd1-8f8c-5c87afa3188e",
   "metadata": {},
   "source": [
    "## Recomendation:\n",
    "This tutorial also exists on [Google Sheets using Anthropic's Claude for Sheets extension](https://docs.google.com/spreadsheets/d/19jzLgRruG9kjUQNKtCg1ZjdD6l6weA6qRXG5zLIAhC8/edit?usp=sharing).  Follow the instruction to copy it to your Google drive."
   ]
  },
  {
   "cell_type": "markdown",
   "id": "1633740a-8796-42f1-a1ab-483dd0c64339",
   "metadata": {},
   "source": [
    "## Instructions:\n",
    "- Make a copy of the Google Sheet `Anthropic's Prompt Engineering Interactive Tutorial [PUBLIC ACCESS]` and copy it to your Google account.\n",
    "- Install `Claude for Sheets extenstion` to Google Sheet.\n",
    "- Go to [Anthropic Console](https://console.anthropic.com/dashboard) to get your API keys. If you do not have an account, do register for one.\n",
    "- At `Google Sheet > Extensions > Claude for Sheets > Open sidebar > Menu (aka hamburger menu) > Settings`, enter the Anthropic API key under API provider."
   ]
  },
  {
   "cell_type": "markdown",
   "id": "e97d0b56-414d-43ab-833f-81a1ad035f12",
   "metadata": {},
   "source": [
    "<img src=\"Anthropic Tutorial 01.png\">"
   ]
  },
  {
   "cell_type": "markdown",
   "id": "c28cecc7-1e05-4a83-985e-7dde81338702",
   "metadata": {},
   "source": [
    "<img src=\"Anthropic Tutorial 02-04.png\">"
   ]
  },
  {
   "cell_type": "markdown",
   "id": "25c0b609-98a1-4051-9145-d1a32f5f66cc",
   "metadata": {},
   "source": [
    "## Let's test your API Key is working\n",
    "\n",
    "- Go to `1 - Basic Prompt Structure` and run the cell\n",
    "- Select the cell and go to `Extension > Claude for Sheets > Recalculate selected cell(s)`\n",
    "- Claude response will be printed to the cell\n",
    "\n",
    "---\n",
    "\n",
    "<img src=\"Anthropic Tutorial 05.png\">\n",
    "\n",
    "---"
   ]
  },
  {
   "cell_type": "markdown",
   "id": "79d9adec-1d8d-4eb5-bd1b-9c7f82022976",
   "metadata": {},
   "source": [
    "## Exercises:\n",
    "Once you have got the first prompt working, please kindly work on the rest of the exercises.  Highly recommended to do all the exercises.\n",
    "- Chatper 1: Basic Prompt Structure\n",
    "- Chapter 2: Being Clear and Direct\n",
    "- Chapter 3: Assigning Roles\n",
    "- Chapter 4: Separating Data from Instructions\n",
    "- Chapter 5: Formatting Output & Speaking for Claude\n",
    "\n",
    "The rest of the chapters, we will continue in next lesson."
   ]
  },
  {
   "cell_type": "markdown",
   "id": "ccb35aff-39f5-46a2-a469-6ec5501f68b3",
   "metadata": {},
   "source": [
    "# Note:\n",
    "\n",
    "If you are stuck or unsure of what is expected, there is also an [answer key](https://docs.google.com/spreadsheets/d/1jIxjzUWG-6xBVIa2ay6yDpLyeuOh_hR_ZB75a47KX_E/edit?usp=sharing)"
   ]
  },
  {
   "cell_type": "code",
   "execution_count": null,
   "id": "f6a44502-78fe-4b6c-a1f2-f35087184e6e",
   "metadata": {},
   "outputs": [],
   "source": []
  }
 ],
 "metadata": {
  "kernelspec": {
   "display_name": "Python 3 (ipykernel)",
   "language": "python",
   "name": "python3"
  },
  "language_info": {
   "codemirror_mode": {
    "name": "ipython",
    "version": 3
   },
   "file_extension": ".py",
   "mimetype": "text/x-python",
   "name": "python",
   "nbconvert_exporter": "python",
   "pygments_lexer": "ipython3",
   "version": "3.10.14"
  }
 },
 "nbformat": 4,
 "nbformat_minor": 5
}
