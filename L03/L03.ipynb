{
 "cells": [
  {
   "cell_type": "markdown",
   "id": "256d3948",
   "metadata": {},
   "source": [
    "<img src=\"https://www.rp.edu.sg/images/default-source/default-album/rp-logo.png\" width=\"200\" alt=\"Republic Polytechnic\"/>\n",
    "\n",
    "[![Open in Colab](https://colab.research.google.com/assets/colab-badge.svg)](https://colab.research.google.com/github/koayst-rplesson/SDGAI_LLMforGenAIApp_Labs/blob/main/L03/L03.ipynb)"
   ]
  },
  {
   "cell_type": "markdown",
   "id": "85e80164-bf97-4962-b425-7864a154dcaf",
   "metadata": {},
   "source": [
    "# Setup and Installation\n",
    "\n",
    "You can run this Jupyter notebook either on your local machine or run it at Google Colab.\n",
    "\n",
    "* For local machine, it is recommended to install Anaconda and create a new development environment called `c3669c`.\n",
    "* Pip/Conda install the libraries stated below when necessary."
   ]
  },
  {
   "cell_type": "markdown",
   "id": "0c79ed1d-cc1e-4712-93ce-695496907dd7",
   "metadata": {},
   "source": [
    "# Lesson 03"
   ]
  },
  {
   "cell_type": "markdown",
   "id": "121d1dd9-913a-44a5-9869-9100a964d694",
   "metadata": {},
   "source": [
    "## Python Type Hints"
   ]
  },
  {
   "cell_type": "markdown",
   "id": "bf4d3de2-1fb8-4cd7-9c99-845168275745",
   "metadata": {},
   "source": [
    "### 1. Basic Type Hints\n",
    "Basic types like `int`, `float`, `str`, `bool` and `None` are straightforward hint.\n",
    "\n",
    "- `name` is annotated as a `str`. Type hints use a colon after a variable name, followed by the type.\n",
    "- The function `greeting` is expected to return a `str`. Return type is indicated after the `->` symbol."
   ]
  },
  {
   "cell_type": "code",
   "execution_count": 1,
   "id": "e3f8df87-760b-4746-bfb4-267d71bcec20",
   "metadata": {},
   "outputs": [],
   "source": [
    "def greeting(name: str) -> str:\n",
    "    return f\"Hello, {name}!\""
   ]
  },
  {
   "cell_type": "code",
   "execution_count": 2,
   "id": "7c1a900f-c1c0-453f-924d-24791ad5ac2e",
   "metadata": {},
   "outputs": [
    {
     "name": "stdout",
     "output_type": "stream",
     "text": [
      "Hello, John!\n"
     ]
    }
   ],
   "source": [
    "message = greeting(\"John\")\n",
    "print(message)"
   ]
  },
  {
   "cell_type": "code",
   "execution_count": 3,
   "id": "25eccc24-5306-4fba-8bcb-3cf4a7c0ceda",
   "metadata": {},
   "outputs": [
    {
     "name": "stdout",
     "output_type": "stream",
     "text": [
      "Hello, 123.456!\n"
     ]
    }
   ],
   "source": [
    "# Notice float 123.456 is converted to string type\n",
    "message = greeting(123.456)\n",
    "print(message)"
   ]
  },
  {
   "cell_type": "markdown",
   "id": "420121ba-3485-4db4-8f8c-be8a33a0897e",
   "metadata": {},
   "source": [
    "### 2. Type Hints for Collections\n",
    "\n",
    "For collections like `list`, `tuple`, `set`, `dict`, etc. you can specify the type of elements within.\n",
    "\n",
    "In the example:\n",
    "- `get_names` return a list of string (`List[str]`).\n",
    "- `get_ages` return a dictionary where the keys are strings and the values are integers (`Dict[str, int]`)."
   ]
  },
  {
   "cell_type": "code",
   "execution_count": 4,
   "id": "6c4a9d17-a428-44b0-a4a1-76acd31e98e9",
   "metadata": {},
   "outputs": [],
   "source": [
    "from typing import List, Dict\n",
    "\n",
    "def get_names() -> List[str]:\n",
    "    return [\"Alice\", \"Bob\", \"Charlie\"]\n",
    "\n",
    "def get_ages() -> Dict[str, int]:\n",
    "    return {\"Alice\": 25, \"Bob\": 30, \"Charlie\": 35}"
   ]
  },
  {
   "cell_type": "code",
   "execution_count": 5,
   "id": "101142bd-1a8a-406d-b20b-5e086f8e3e93",
   "metadata": {},
   "outputs": [
    {
     "name": "stdout",
     "output_type": "stream",
     "text": [
      "['Alice', 'Bob', 'Charlie']\n",
      "\n",
      "{'Alice': 25, 'Bob': 30, 'Charlie': 35}\n"
     ]
    }
   ],
   "source": [
    "print(get_names())\n",
    "print()\n",
    "print(get_ages())"
   ]
  },
  {
   "cell_type": "markdown",
   "id": "78a42652-c037-4304-8a9a-cccc7658ac39",
   "metadata": {},
   "source": [
    "### 3. Optional and Union Types\n",
    "\n",
    "---\n",
    "```\n",
    "# Optional Types\n",
    "from typing import Optional\n",
    "\n",
    "# Union Types\n",
    "from typing import Union\n",
    "```\n",
    "---\n",
    "\n",
    "- `Optional` is used when a variable or return type can be `None`.\n",
    "- `Union` is used when a variable or return type could be one of the multiple types\n",
    "\n",
    "In the example:\n",
    "- `find_item` might return a `str` or `None`, hence `Optional[str]`.\n",
    "- `add` can accept and return either `int` or `float`, hence `Union[int, float]`."
   ]
  },
  {
   "cell_type": "code",
   "execution_count": 6,
   "id": "46d42863-bb84-4f72-959a-6029fe676f3d",
   "metadata": {},
   "outputs": [],
   "source": [
    "from typing import Optional, Union\n",
    "\n",
    "def find_item(name: str) -> Optional[str]:\n",
    "    items = {\"item1\": \"Laptop\", \"item2\": \"Phone\"}\n",
    "    if name:\n",
    "        return items.get(name)\n",
    "    else:\n",
    "        return None\n",
    "\n",
    "def add(\n",
    "    x: Union[int, float], \n",
    "    y: Union[int, float]) -> Union[int, float]:\n",
    "    return x + y"
   ]
  },
  {
   "cell_type": "code",
   "execution_count": 7,
   "id": "419a908f-65ed-4731-ad9c-6867ac48147d",
   "metadata": {},
   "outputs": [
    {
     "name": "stdout",
     "output_type": "stream",
     "text": [
      "find_item = None\n",
      "find_item = Phone\n",
      "\n",
      "add = 2\n",
      "add = 3.0\n"
     ]
    }
   ],
   "source": [
    "print(f\"find_item = {find_item('')}\")\n",
    "print(f\"find_item = {find_item('item2')}\")\n",
    "\n",
    "print()\n",
    "\n",
    "print(f\"add = {add(1, 1)}\")\n",
    "print(f\"add = {add(2.0, 1)}\")"
   ]
  },
  {
   "cell_type": "markdown",
   "id": "fce00af7-c82c-4da9-bdde-430cc7251873",
   "metadata": {},
   "source": [
    "### 4. Type Aliases\n",
    "\n",
    "Type aliases can improve readability by defining custom names for complex types.\n",
    "\n",
    "In the example:\n",
    "- `Coordinate` is defined as `Tuple[float, float]`, and `Path` as `List[Coordinate]`. Now `Path` can be reused instead of typing out `List[Tuple[float, float]]` multiple times."
   ]
  },
  {
   "cell_type": "code",
   "execution_count": 8,
   "id": "6b4d6238-c841-45b5-8ed2-add9eaf9227b",
   "metadata": {},
   "outputs": [],
   "source": [
    "from typing import List, Tuple\n",
    "import math\n",
    "\n",
    "Coordinate = Tuple[float, float]\n",
    "Path = List[Coordinate]\n",
    "\n",
    "def calculate_distance(path: Path) -> float:\n",
    "    total_distance = 0.0\n",
    "    \n",
    "    # Loop through pairs of consecutive coordinates\n",
    "    for i in range(1, len(path)):\n",
    "        x1, y1 = path[i - 1]\n",
    "        x2, y2 = path[i]\n",
    "        \n",
    "        # Calculate the Euclidean distance between each consecutive point\n",
    "        distance = math.sqrt((x2 - x1) ** 2 + (y2 - y1) ** 2)\n",
    "        total_distance += distance\n",
    "    \n",
    "    return total_distance"
   ]
  },
  {
   "cell_type": "code",
   "execution_count": 9,
   "id": "6436e5d3-cea5-4359-bdd1-1ed3ebd23bce",
   "metadata": {},
   "outputs": [
    {
     "name": "stdout",
     "output_type": "stream",
     "text": [
      "Distance = 6.324555320336759\n"
     ]
    }
   ],
   "source": [
    "cords = [(4, 0), (6, 6)]\n",
    "\n",
    "print(f\"Distance = {calculate_distance (cords)}\")"
   ]
  },
  {
   "cell_type": "markdown",
   "id": "653aa655-c0ce-4daf-b1ec-f322771e561f",
   "metadata": {},
   "source": [
    "### 4. Optional Static Type Checking\n",
    "\n",
    "- **PEP 484** introduced optional type hints, meaning type hints don’t affect runtime and are entirely optional.\n",
    "- Type checking can be performed using external tools like **mypy**, **pyright**, etc."
   ]
  },
  {
   "cell_type": "markdown",
   "id": "6864cd06-a48e-4397-b3a0-1e6274949c7e",
   "metadata": {},
   "source": [
    "### 5. Forward References\n",
    "- Self-referential or mutually referential types, **PEP 484** allows using forward references by placing the type in quotes."
   ]
  },
  {
   "cell_type": "code",
   "execution_count": 10,
   "id": "3cce3f47-4147-451b-81d4-a0d42715bf90",
   "metadata": {},
   "outputs": [],
   "source": [
    "from typing import Optional\n",
    "\n",
    "class Node:\n",
    "    def __init__(self, value: int, next_node: Optional[\"Node\"] = None):\n",
    "        self.value = value\n",
    "        self.next_node = next_node"
   ]
  },
  {
   "cell_type": "markdown",
   "id": "ffe6061a-5123-4598-b037-01c9432e4bb7",
   "metadata": {},
   "source": [
    "### 6. Type Hints for Dynamic and Complex Situations\n",
    "\n",
    "Type hints are versatile and able to handle complex coding scenarios.\n",
    "\n",
    "---\n",
    "```\n",
    "from typing import Generic, TypeVar\n",
    "from typing import Callable\n",
    "```\n",
    "---\n",
    "\n"
   ]
  },
  {
   "cell_type": "code",
   "execution_count": 11,
   "id": "d3ce4bee-f2b9-41a1-9eeb-7e956fe78329",
   "metadata": {},
   "outputs": [],
   "source": [
    "from typing import Generic, TypeVar\n",
    "from typing import Callable\n",
    "\n",
    "T = TypeVar('T')\n",
    "\n",
    "class Container(Generic[T]):\n",
    "    def __init__(self, value: T) -> None:\n",
    "        self.value = value"
   ]
  },
  {
   "cell_type": "markdown",
   "id": "ea4d3ed1-ef3a-479d-98e1-5facf8731660",
   "metadata": {},
   "source": [
    "This is a complex example. Let's go through this code step-by-step to understand what each part does.\n",
    "\n",
    "**TypeVar and Generic:**\n",
    "- `TypeVar('T')`: `T` is a type variable, which allows us to create generic types. In this case, `T` can represent any data type, such as `int`, `str`, `float` etc.\n",
    "- `Generic[T]`: Makes `Container` a generic class that can store any type `T`. This means we can create `Container[int]`, `Container[str]`, or any other specific type, depending on what we want to store.\n",
    "- `class Container(Generic[T])`: This defines a generic class Container that can hold a value of any type specified by `T`.\n",
    "- `__init__(self, value: T)`: The constructor method (`__init__`) takes an argument value of type `T` and assigns it to the instance variable `self.value`.\n",
    "- By using `T`, we can make `Container` flexible enough to hold values of any data type, and type checkers will enforce that the stored type matches the specified `T`."
   ]
  },
  {
   "cell_type": "code",
   "execution_count": 12,
   "id": "6cf06d0d-97b7-4ebc-b0bf-c48aa036b701",
   "metadata": {},
   "outputs": [],
   "source": [
    "# Example Usage:\n",
    "\n",
    "# T is inferred as int\n",
    "int_container = Container(42)\n",
    "\n",
    "# T is inferred as int\n",
    "str_container = Container(\"hello\")"
   ]
  },
  {
   "cell_type": "markdown",
   "id": "0983b8ce-b218-44f3-a46f-4068d72d701b",
   "metadata": {},
   "source": [
    "Next, let's look at the `execute_function` function:\n",
    "\n",
    "**Function Type Hints:**\n",
    "- `Callable[[int], str]`: The `func` parameter is expected to be a callable (a function) that takes a single `int` argument and returns a `str`.\n",
    "- `value: int`: The `value` parameter is an integer.\n",
    "\n",
    "**Function Execution:**\n",
    "- `func(value)`: This calls `func` with the argument value, which is expected to be an integer.\n",
    "- `-> str`: This specifies that `execute_function` returns a `str`, which is the result of calling `func(value)`."
   ]
  },
  {
   "cell_type": "code",
   "execution_count": 13,
   "id": "3ddfc6df-5942-430d-adae-a7a4c5c1f2ed",
   "metadata": {},
   "outputs": [],
   "source": [
    "def execute_function(func: Callable[[int], str], value: int) -> str:\n",
    "    return func(value)"
   ]
  },
  {
   "cell_type": "code",
   "execution_count": 14,
   "id": "a8a69d2f-2f3a-45bc-b215-7fae32db538c",
   "metadata": {},
   "outputs": [
    {
     "name": "stdout",
     "output_type": "stream",
     "text": [
      "The number is 10\n"
     ]
    }
   ],
   "source": [
    "# Example Usage:\n",
    "\n",
    "def int_to_str(x: int) -> str:\n",
    "    return f\"The number is {x}\"\n",
    "\n",
    "result = execute_function(int_to_str, 10)\n",
    "\n",
    "# The number is 10\n",
    "print(result)  "
   ]
  },
  {
   "cell_type": "markdown",
   "id": "832fce77-7ac5-4483-9c0c-03f77b905384",
   "metadata": {},
   "source": [
    "### 7. Backward Compatability\n",
    "\n",
    "**PEP 484** was designed to be backward  compatible, meaning adding type hints doesn't change the behaviour of code at runtime.\n",
    "\n",
    "In short, **PEP 484** introduced a powerful and flexible way to improve the clarity and robustness of Python code without affecting its runtime behaviour."
   ]
  },
  {
   "cell_type": "markdown",
   "id": "cfbcf456-e75b-43b6-8f03-27b28efd4926",
   "metadata": {},
   "source": [
    "### Summary Of Python Type Hints\n",
    "\n",
    "It is not mandatory to use type hints in every Python project. But it is recommended for larger and more complex projects to improve readability and maintainability.\n",
    "\n",
    "Type hints are only used during development and do not affect the runtime performance of your code.\n",
    "\n",
    "Type hints are not created to replace docstrings. Type hints complement docstring. Docstring provide a description of what the function does, its parameters, and its return type, while type hints provide a clear and concise way to indicate the types of parameters and return values."
   ]
  },
  {
   "cell_type": "code",
   "execution_count": null,
   "id": "dadc3e7d-b838-444c-a639-eb81159ad671",
   "metadata": {},
   "outputs": [],
   "source": []
  }
 ],
 "metadata": {
  "kernelspec": {
   "display_name": "Python 3 (ipykernel)",
   "language": "python",
   "name": "python3"
  },
  "language_info": {
   "codemirror_mode": {
    "name": "ipython",
    "version": 3
   },
   "file_extension": ".py",
   "mimetype": "text/x-python",
   "name": "python",
   "nbconvert_exporter": "python",
   "pygments_lexer": "ipython3",
   "version": "3.10.14"
  }
 },
 "nbformat": 4,
 "nbformat_minor": 5
}
